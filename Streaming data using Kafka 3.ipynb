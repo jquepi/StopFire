{
 "cells": [
  {
   "cell_type": "markdown",
   "metadata": {},
   "source": [
    "# Producer 3(TERRA Streaming)"
   ]
  },
  {
   "cell_type": "code",
   "execution_count": null,
   "metadata": {},
   "outputs": [],
   "source": [
    "# import statements\n",
    "from time import sleep\n",
    "from json import dumps\n",
    "from kafka import KafkaProducer\n",
    "import random\n",
    "import datetime as dt\n",
    "import csv\n",
    "import json\n",
    "import random\n",
    "\n",
    "csvfile = open('hotspot_TERRA_streaming.csv')\n",
    "result_list = []\n",
    "\n",
    "reader = csv.DictReader(csvfile)\n",
    "\n",
    "for row in reader:\n",
    "    result_list.append(row)\n",
    "\n",
    "def publish_message(producer_instance, topic_name, key, data):\n",
    "    try:        \n",
    "        key_bytes = bytes(key, encoding='utf-8')\n",
    "        producer_instance.send(topic_name, key=key_bytes, value=data)\n",
    "        producer_instance.flush()\n",
    "        print('Message published successfully. Data: ' + str(data))\n",
    "    except Exception as ex:\n",
    "        print('Exception in publishing message.')\n",
    "        print(str(ex))\n",
    "        \n",
    "def connect_kafka_producer():\n",
    "    _producer = None\n",
    "    try:\n",
    "        _producer = KafkaProducer(bootstrap_servers=['localhost:9092'],\n",
    "                                  value_serializer=lambda x:dumps(x).encode('ascii'),\n",
    "                                  api_version=(0, 10))\n",
    "         \n",
    "    except Exception as ex:\n",
    "        print('Exception while connecting Kafka.')\n",
    "        print(str(ex))\n",
    "    finally:\n",
    "        return _producer\n",
    "    \n",
    "if __name__ == '__main__':\n",
    "       \n",
    "    topic = 'AssignmentTaskC'\n",
    "    \n",
    "    print('Publishing records..')\n",
    "    producer3 = connect_kafka_producer()\n",
    "    \n",
    "    while True:                \n",
    "        data = result_list[random.randrange(2623)]\n",
    "        data[\"create_time\"] = dt.datetime.now().strftime(\"%X\")\n",
    "        data[\"sender_id\"] = \"P03\"\n",
    "        publish_message(producer3, topic, 'jsondata', str(data))\n",
    "        sleep(random.randrange(10,30))\n",
    "    \n"
   ]
  },
  {
   "cell_type": "code",
   "execution_count": null,
   "metadata": {},
   "outputs": [],
   "source": []
  }
 ],
 "metadata": {
  "kernelspec": {
   "display_name": "Python 3",
   "language": "python",
   "name": "python3"
  },
  "language_info": {
   "codemirror_mode": {
    "name": "ipython",
    "version": 3
   },
   "file_extension": ".py",
   "mimetype": "text/x-python",
   "name": "python",
   "nbconvert_exporter": "python",
   "pygments_lexer": "ipython3",
   "version": "3.5.2"
  }
 },
 "nbformat": 4,
 "nbformat_minor": 2
}
