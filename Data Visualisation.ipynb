{
 "cells": [
  {
   "cell_type": "markdown",
   "metadata": {},
   "source": [
    "# Data Visualisation"
   ]
  },
  {
   "cell_type": "code",
   "execution_count": null,
   "metadata": {},
   "outputs": [],
   "source": [
    "# import statements\n",
    "from time import sleep\n",
    "from kafka import KafkaConsumer\n",
    "import datetime as dt\n",
    "import matplotlib.pyplot as plt\n",
    "import json"
   ]
  },
  {
   "cell_type": "code",
   "execution_count": null,
   "metadata": {
    "scrolled": false
   },
   "outputs": [],
   "source": [
    "# this line is needed for the inline display of graphs in Jupyter Notebook\n",
    "%matplotlib notebook\n",
    "\n",
    "topic = 'AssignmentTaskC'\n",
    "\n",
    "def annotate_max(x, y, ax = None):\n",
    "    ymax = max(y)\n",
    "    xpos = y.index(ymax)\n",
    "    xmax = x[xpos]\n",
    "    text = 'Max: Time={}, Value={}'.format(xmax, ymax)\n",
    "    if not ax:\n",
    "        ax=plt.gca()\n",
    "    ax.annotate(text, xy=(xmax, ymax), xytext=(xmax, ymax+5), arrowprops=dict(facecolor='red', shrink=0.05),)\n",
    "    \n",
    "def annotate_min(x, y, ax = None):\n",
    "    ymin = min(y)\n",
    "    xpos = y.index(ymin)\n",
    "    xmin = x[xpos]\n",
    "    text = 'Min: Time={}, Value={}'.format(xmin, ymin)\n",
    "    if not ax:\n",
    "        ax=plt.gca()\n",
    "    ax.annotate(text, xy=(xmin, ymin), xytext=(xmin, ymin+5), arrowprops=dict(facecolor='orange', shrink=0.05),)\n",
    "\n",
    "def connect_kafka_consumer():\n",
    "    _consumer = None\n",
    "    try:\n",
    "         _consumer = KafkaConsumer(topic,\n",
    "                                   consumer_timeout_ms=10000, # stop iteration if no message after 10 sec\n",
    "                                   #auto_offset_reset='earliest', # comment this if you don't want to consume earliest available message\n",
    "                                   bootstrap_servers=['localhost:9092'],\n",
    "                                   api_version=(0, 10))\n",
    "    except Exception as ex:\n",
    "        print('Exception while connecting Kafka')\n",
    "        print(str(ex))\n",
    "    finally:\n",
    "        return _consumer\n",
    "\n",
    "def init_plots():\n",
    "    try:\n",
    "        width = 9.5\n",
    "        height = 4\n",
    "        fig = plt.figure(figsize=(width,height)) # create new figure\n",
    "        ax = fig.add_subplot(111) # adding the subplot axes to the given grid position\n",
    "        fig.suptitle('Air Temperature Streaming') # giving figure a title\n",
    "        ax.set_xlabel('Receiving Time')\n",
    "        ax.set_ylabel('Air Temperature')\n",
    "        ax.set_ylim(0,100) \n",
    "        ax.set_yticks([0,20,40,60,80])\n",
    "        fig.show() # displaying the figure\n",
    "        fig.canvas.draw() # drawing on the canvas\n",
    "        return fig, ax\n",
    "    except Exception as ex:\n",
    "        print(str(ex))\n",
    "    \n",
    "def consume_messages(consumer, fig, ax):\n",
    "    try:\n",
    "        # container for x and y values\n",
    "        x, y = [], []\n",
    "        for message in consumer:\n",
    "            data = message.value.decode('utf-8')\n",
    "\n",
    "            my_data = json.loads(data)\n",
    "            my_data = my_data.replace(\"'\",\"\\\"\")\n",
    "            my_data = json.loads(my_data)\n",
    "            receive_timestamp = dt.datetime.now().strftime(\"%X\")\n",
    "        \n",
    "            sender_id = my_data['sender_id']\n",
    "\n",
    "            if(sender_id == 'P01'):\n",
    "                x.append(receive_timestamp) \n",
    "                y.append(int(my_data['air_temperature_celcius']))\n",
    "                        \n",
    "            # we start plotting only when we have 4 data points\n",
    "            if len(y) > 4:\n",
    "                ax.clear()\n",
    "                ax.plot(x, y)\n",
    "                ax.set_xlabel('Receiving Time')\n",
    "                ax.set_ylabel('Air Temperature')\n",
    "                ax.set_ylim(0,100) \n",
    "                ax.set_yticks([0,20,40,60,80])\n",
    "                annotate_max(x,y)\n",
    "                annotate_min(x,y)\n",
    "                fig.canvas.draw()\n",
    "                x.pop(0) # removing the item in the first position\n",
    "                y.pop(0)\n",
    "        plt.close('all')\n",
    "    except Exception as ex:\n",
    "        print(str(ex))\n",
    "    \n",
    "if __name__ == '__main__':\n",
    "    \n",
    "    consumer = connect_kafka_consumer()\n",
    "    fig, ax = init_plots()\n",
    "    consume_messages(consumer, fig, ax)\n",
    "    \n",
    "    "
   ]
  },
  {
   "cell_type": "markdown",
   "metadata": {},
   "source": [
    "#   "
   ]
  },
  {
   "cell_type": "markdown",
   "metadata": {},
   "source": [
    "# Static Data Visualisation "
   ]
  },
  {
   "cell_type": "markdown",
   "metadata": {},
   "source": [
    "##  Bar Chart"
   ]
  },
  {
   "cell_type": "code",
   "execution_count": null,
   "metadata": {
    "scrolled": false
   },
   "outputs": [],
   "source": [
    "import gmplot\n",
    "import pymongo\n",
    "import webbrowser\n",
    "\n",
    "client = pymongo.MongoClient(\"mongodb://localhost:27017/\")\n",
    "db = client[\"streamingDataDB\"]\n",
    "streams = db[\"streams\"]\n",
    "\n",
    "chart_data_list = []\n",
    "fire_map_data_list = []\n",
    "\n",
    "doc_id_obj_list = streams.aggregate([{\"$project\": {\"_id\":1,\"length\":{\"$size\":\"$satellite_data\"}}},{\"$sort\":{\"length\": -1 }},{\"$limit\":10}])\n",
    "\n",
    "\n",
    "for doc_id_obj in doc_id_obj_list:\n",
    "    doc_id = doc_id_obj[\"_id\"]\n",
    "    query_map_data = {\"_id\": doc_id}\n",
    "    map_data = streams.find(query_map_data,{\"_id\":0,\"create_time\":1,\"satellite_data\":1,\"relative_humidity\":1,\"air_temperature_celcius\":1,\"latitude\":1,\"longitude\":1})\n",
    "    for row in map_data:\n",
    "        latitude = row[\"latitude\"]\n",
    "        longitude = row[\"longitude\"]\n",
    "        time_extracted = row[\"create_time\"]\n",
    "        surface_temperature = (row[\"satellite_data\"][0][\"surface_temperature_celcius\"])\n",
    "        confidence = (row[\"satellite_data\"][0][\"confidence\"])\n",
    "        air_temperature = row[\"air_temperature_celcius\"]\n",
    "        relative_humidity = row[\"relative_humidity\"]\n",
    "    \n",
    "    chart_data_list.append((doc_id_obj[\"length\"],time_extracted))\n",
    "    fire_map_data_list.append((latitude,longitude,surface_temperature,confidence,air_temperature,relative_humidity))\n",
    "    \n",
    "x = []\n",
    "y = []\n",
    "for chart_data in chart_data_list:\n",
    "    x.append(chart_data[1])\n",
    "    y.append(chart_data[0])\n",
    "\n",
    "plt.figure(figsize=(16,5))\n",
    "plt.bar(x,y,align='center')\n",
    "plt.xlabel('Time',fontsize = 20)\n",
    "plt.ylabel('Number of Fires',fontsize = 16)      \n"
   ]
  },
  {
   "cell_type": "markdown",
   "metadata": {},
   "source": [
    "## Fire Map"
   ]
  },
  {
   "cell_type": "code",
   "execution_count": null,
   "metadata": {},
   "outputs": [],
   "source": [
    "gmap = gmplot.GoogleMapPlotter(-37.812015244225677, 144.951471202974, 7) # latitude and longitude of melbourne city\n",
    "\n",
    "latitude = []\n",
    "longitude = []\n",
    "for fire_map_data in fire_map_data_list:\n",
    "    latitude.append(float(fire_map_data[0]))\n",
    "    longitude.append(float(fire_map_data[1]))\n",
    "    marker_label = \"surface temp: \" + fire_map_data[2] + \", confidence: \" + fire_map_data[3] + \", air temp:\" + fire_map_data[4] + \", relative humidity: \" + fire_map_data[5]\n",
    "    gmap.marker(float(fire_map_data[0]),float(fire_map_data[1]),title = marker_label)\n",
    "    \n",
    "gmap.scatter(latitude,longitude,\"#FF4500\", size=2, marker=False)\n",
    "gmap.draw(\"fire-location.html\")\n",
    "webbrowser.open_new(\"fire-location.html\")"
   ]
  },
  {
   "cell_type": "code",
   "execution_count": null,
   "metadata": {},
   "outputs": [],
   "source": []
  }
 ],
 "metadata": {
  "kernelspec": {
   "display_name": "Python 3",
   "language": "python",
   "name": "python3"
  },
  "language_info": {
   "codemirror_mode": {
    "name": "ipython",
    "version": 3
   },
   "file_extension": ".py",
   "mimetype": "text/x-python",
   "name": "python",
   "nbconvert_exporter": "python",
   "pygments_lexer": "ipython3",
   "version": "3.5.2"
  }
 },
 "nbformat": 4,
 "nbformat_minor": 2
}
